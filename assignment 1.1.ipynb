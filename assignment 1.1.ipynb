{
 "cells": [
  {
   "cell_type": "code",
   "execution_count": null,
   "id": "ce81d918",
   "metadata": {},
   "outputs": [],
   "source": [
    "1] Differentiate between lists and tuples.\n",
    "\n",
    "ans:- The major difference is that a list is mutable, but a tuple is immutable.\n",
    "     e.g :- in list we can access any elements with the help of indexing but in tuple it is not possible"
   ]
  },
  {
   "cell_type": "code",
   "execution_count": null,
   "id": "eecba4b4",
   "metadata": {},
   "outputs": [],
   "source": [
    "2] How would you convert a string into lowercase?\n",
    "ans:- we use lower() method for this \n",
    "     e.g. a = \"YASH DUGANE\"\n",
    "          print(a.lower())"
   ]
  },
  {
   "cell_type": "code",
   "execution_count": null,
   "id": "50250b39",
   "metadata": {},
   "outputs": [],
   "source": [
    "3] How do you get a list of all the keys in a dictionary?\n",
    "ans:- For this, we use the function keys()\n",
    "    e.g.  mydict={'a':1,'b':2,'c':3,'e':5}\n",
    "          mydict.keys()"
   ]
  },
  {
   "cell_type": "code",
   "execution_count": null,
   "id": "4754344e",
   "metadata": {},
   "outputs": [],
   "source": [
    "4] How do you insert an object at a given index in Python?\n",
    "ans:- build a list first.Now, use the method insert. The first argument is the index at which to insert,\n",
    "      the second is the value to insert.\n",
    "        a=[1,2,4,6,8,9]\n",
    "        a.insert(2,3)\n",
    "        a"
   ]
  },
  {
   "cell_type": "code",
   "execution_count": null,
   "id": "9cce69cd",
   "metadata": {},
   "outputs": [],
   "source": [
    "5] Can you name ten built-in functions in Python?\n",
    "ans:- complex()- Creates a complex number\n",
    "    eval()- Parses a string as an expression.\n",
    "    filter() - Filters in items for which the condition is true.\n",
    "    format() - Lets us format a string.\n",
    "    hash()- Returns the hash value of an object.\n",
    "    hex()- Converts an integer to a hexadecimal.\n",
    "    input()- Reads and returns a line of string.\n",
    "    len()- Returns the length of an object.\n",
    "    locals()- Returns a dictionary of the current local symbol table.\n",
    "    open()- Opens a file."
   ]
  },
  {
   "cell_type": "code",
   "execution_count": null,
   "id": "e50c6bed",
   "metadata": {},
   "outputs": [],
   "source": [
    "6] Explain the //, %, and ** operators in Python.\n",
    "ans:- The // operator performs floor division. It will return the integer part of the result on division.\n",
    "     [ 7//2 = 3 ] Normal division would return 3.5 here.\n",
    "      ** performs exponentiation. a**b returns the value of a raised to the power b.\n",
    "     [2**10 = 1024] \n",
    "      % is for modulus. This gives us the value left after the highest achievable division.\n",
    "     [13%7 = 6]\n"
   ]
  },
  {
   "cell_type": "code",
   "execution_count": null,
   "id": "e8e6d7a8",
   "metadata": {},
   "outputs": [],
   "source": [
    "7] What do you know about relational operators in Python.\n",
    "  [ < ] = less than:- Less than (<) If the value on the left is lesser, it returns True.\n",
    "  [ > ] = gretaer than :-Greater than (>) If the value on the left is greater, it returns True.\n",
    "  [ <= ] = less than or equal to:- Less than or equal to (<=) If the value on the left is lesser than or equal to, it returns True.\n",
    "  [ >= ] = greater than or equal to:- Greater than or equal to (>=) If the value on the left is greater than or equal to, it returns True.\n",
    "  [ != ] = not equal to :- Not equal to (!=) If the two values are unequal, it returns True.\n",
    "  [ == ] = equal to :- Equal to (==) If the two values are equal, it returns True."
   ]
  },
  {
   "cell_type": "code",
   "execution_count": null,
   "id": "da38a932",
   "metadata": {},
   "outputs": [],
   "source": [
    "8] What are assignment operators in Python?\n",
    "ans:-[ = ] :- assign\n",
    "    [ += ] :- add and assign\n",
    "    [ -= ] :- subtract and assign\n",
    "    [ *= ] :- multiply and assign\n",
    "    [ /= ] :- divide and assign\n",
    "    [ %= ] :- modulas and assign\n",
    "    [ **= ] :- exponent and assign\n",
    "    [ //= ] :- floor divide and asssign"
   ]
  },
  {
   "cell_type": "code",
   "execution_count": null,
   "id": "464384ec",
   "metadata": {},
   "outputs": [],
   "source": [
    "9] What are membership operators?\n",
    "ans:- The operators ‘is’ and ‘is not’ tell us if two values have the same identity.\n",
    "\n",
    "    10 is '10'\n",
    "    False\n",
    "\n",
    "    True is not False\n",
    "    True"
   ]
  },
  {
   "cell_type": "code",
   "execution_count": null,
   "id": "57f3771b",
   "metadata": {},
   "outputs": [],
   "source": [
    "10] What does the function zip() do?\n",
    "ans:-zip() returns an iterator of tuples.\n",
    "\n",
    ">>> list(zip(['a','b','c'],[1,2,3]))\n",
    "[(‘a’, 1), (‘b’, 2), (‘c’, 3)]\n",
    "\n",
    "Here, it pairs items from the two lists and creates tuples with those. But it doesn’t have to be lists.\n",
    "\n",
    ">>> list(zip(('a','b','c'),(1,2,3)))\n",
    "[(‘a’, 1), (‘b’, 2), (‘c’, 3)]"
   ]
  },
  {
   "cell_type": "code",
   "execution_count": null,
   "id": "28873ad5",
   "metadata": {},
   "outputs": [],
   "source": [
    "11] What is a lambda function?\n",
    "ans:- An anonymous function is known as a lambda function. This function can have any number of parameters but,\n",
    "      can have just one statement.\n",
    "e.g.\n",
    "a = lambda x,y : x+y\n",
    "print(a(5, 6))\n",
    "Output: 11\n",
    "    \n",
    "    "
   ]
  },
  {
   "cell_type": "code",
   "execution_count": null,
   "id": "519af68c",
   "metadata": {},
   "outputs": [],
   "source": [
    "12]  What are functions in Python?\n",
    "ans:- A function is a block of code which is executed only when it is called. To define a Python function, the def keyword is used.\n",
    "e.g.\n",
    "def Newfunc():\n",
    "print(\"Hi, Welcome to my world\")\n",
    "Newfunc(); #calling the function\n",
    "\n"
   ]
  },
  {
   "cell_type": "code",
   "execution_count": null,
   "id": "fb0d7513",
   "metadata": {},
   "outputs": [],
   "source": [
    "13] What does the break keyword do?\n",
    "ans:- break is the fastest way to get out of a loop -- it won't run any code after the break\n",
    "    \n",
    "    "
   ]
  },
  {
   "cell_type": "code",
   "execution_count": null,
   "id": "d64fdbc0",
   "metadata": {},
   "outputs": [],
   "source": [
    "14] For loops are used to loop over:\n",
    "ans:- they are used to loop over Iterable objects\n",
    "    \n",
    "    "
   ]
  },
  {
   "cell_type": "code",
   "execution_count": null,
   "id": "f773d1b8",
   "metadata": {},
   "outputs": [],
   "source": [
    "15]  What is the tradeoff when using while loops for looping?\n",
    "ans:- While loops are more flexible since you explicitly set the start and end conditions,\n",
    "      but they require more setup than for loops\n",
    "        \n",
    "        "
   ]
  },
  {
   "cell_type": "code",
   "execution_count": null,
   "id": "ec259f37",
   "metadata": {},
   "outputs": [],
   "source": [
    "16] What keyword is used to skip back to the beginning of a loop?\n",
    "ans:- continue keyword is used to skip back to the beginning of a loop.\n",
    "    \n",
    "    "
   ]
  },
  {
   "cell_type": "code",
   "execution_count": null,
   "id": "cb446a85",
   "metadata": {},
   "outputs": [],
   "source": [
    "17] How are if, elif, and else blocks defined?\n",
    "ans:- All blocks in Python are defined by indenting.\n",
    "      All lines of a particular code block must have the same level of indenting.\n",
    "        \n",
    "        "
   ]
  },
  {
   "cell_type": "code",
   "execution_count": null,
   "id": "9119b75b",
   "metadata": {},
   "outputs": [],
   "source": [
    "18] How is the Python switch statement used?\n",
    "ans:- there is no built-in switch statement in Python,\n",
    "    which is unusual. A switch statement can be easily created using if-elif using lambda or with Python dictionaries.\n",
    "    \n",
    "    "
   ]
  },
  {
   "cell_type": "code",
   "execution_count": null,
   "id": "7fc4ed97",
   "metadata": {},
   "outputs": [],
   "source": [
    "19] When comparing two d^tes, what method is used?\n",
    "ans:- Date.toordinal( ) Otherwise, Python would compare the dates by their object address\n",
    "    \n",
    "    "
   ]
  },
  {
   "cell_type": "code",
   "execution_count": null,
   "id": "1122faaa",
   "metadata": {},
   "outputs": [],
   "source": [
    "20] Illustrate comparing two strings, printing if the first string is longer, equal, or shorter than the second string.\n",
    "ans:-\n",
    "if len(stringl) > len(string2):\n",
    "print “Stringl is longer than string2.”\n",
    "elif len(stringl) < len(string2):\n",
    "print “String1 is shorter than string2.”\n",
    "else:\n",
    "print “String1 is the same length as string2.”"
   ]
  }
 ],
 "metadata": {
  "kernelspec": {
   "display_name": "Python 3 (ipykernel)",
   "language": "python",
   "name": "python3"
  },
  "language_info": {
   "codemirror_mode": {
    "name": "ipython",
    "version": 3
   },
   "file_extension": ".py",
   "mimetype": "text/x-python",
   "name": "python",
   "nbconvert_exporter": "python",
   "pygments_lexer": "ipython3",
   "version": "3.10.1"
  }
 },
 "nbformat": 4,
 "nbformat_minor": 5
}
